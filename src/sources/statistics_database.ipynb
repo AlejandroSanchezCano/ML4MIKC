{
 "cells": [
  {
   "cell_type": "code",
   "execution_count": 1,
   "id": "d9b29755",
   "metadata": {},
   "outputs": [],
   "source": [
    "# Built-in modules\n",
    "import pprint\n",
    "from collections import Counter\n",
    "\n",
    "# Third-party modules\n",
    "import numpy as np\n",
    "import pandas as pd\n",
    "\n",
    "# Custom modules\n",
    "from src.entities.ppi import PPI\n",
    "from src.entities.protein import Protein"
   ]
  },
  {
   "cell_type": "code",
   "execution_count": 2,
   "id": "acbba8fe",
   "metadata": {},
   "outputs": [
    {
     "name": "stderr",
     "output_type": "stream",
     "text": [
      "100%|██████████| 5724/5724 [00:06<00:00, 831.16it/s] "
     ]
    },
    {
     "name": "stdout",
     "output_type": "stream",
     "text": [
      "Total PPIs in databases: 437\n",
      "PlaPPISite: 3, BioGRID: 38, IntAct: 396\n"
     ]
    },
    {
     "name": "stderr",
     "output_type": "stream",
     "text": [
      "\n"
     ]
    }
   ],
   "source": [
    "# BioGRID, PlaPPISite and IntAct PPIs\n",
    "plappisite, biogrid, intact, total = 0, 0, 0, 0\n",
    "for ppi in PPI.iterate():\n",
    "    if 'PlaPPISite' in ppi.origin or 'BioGRID' in ppi.origin or 'IntAct' in ppi.origin:\n",
    "        total += 1\n",
    "    if 'PlaPPISite' in ppi.origin:\n",
    "        plappisite += 1\n",
    "    elif 'BioGRID' in ppi.origin:\n",
    "        biogrid += 1\n",
    "    elif 'IntAct' in ppi.origin:\n",
    "        intact += 1\n",
    "\n",
    "print(f'Total PPIs in databases: {total}')\n",
    "print(f'PlaPPISite: {plappisite}, BioGRID: {biogrid}, IntAct: {intact}')"
   ]
  },
  {
   "cell_type": "code",
   "execution_count": 3,
   "id": "d2bca7a5",
   "metadata": {},
   "outputs": [
    {
     "name": "stderr",
     "output_type": "stream",
     "text": [
      "100%|██████████| 661/661 [00:00<00:00, 7063.83it/s]\n",
      "100%|██████████| 5724/5724 [00:03<00:00, 1678.21it/s]"
     ]
    },
    {
     "name": "stdout",
     "output_type": "stream",
     "text": [
      "Total proteins: 661, Total PPIs: 5724\n"
     ]
    },
    {
     "name": "stderr",
     "output_type": "stream",
     "text": [
      "\n"
     ]
    }
   ],
   "source": [
    "# Total proteins and PPIs\n",
    "prots = [p for p in Protein.iterate()]\n",
    "ppis = [ppi for ppi in PPI.iterate()]\n",
    "print(f'Total proteins: {len(prots)}, Total PPIs: {len(ppis)}')"
   ]
  },
  {
   "cell_type": "code",
   "execution_count": 4,
   "id": "993442f6",
   "metadata": {},
   "outputs": [
    {
     "name": "stderr",
     "output_type": "stream",
     "text": [
      "100%|██████████| 5724/5724 [00:02<00:00, 2304.04it/s]"
     ]
    },
    {
     "name": "stdout",
     "output_type": "stream",
     "text": [
      "Single origin: 4607, Multiple origin: 1117\n",
      "Origins: Counter({1: 661, 2: 387, 3: 69})\n"
     ]
    },
    {
     "name": "stderr",
     "output_type": "stream",
     "text": [
      "\n"
     ]
    }
   ],
   "source": [
    "# Origin of PPIs\n",
    "single_origin = 0\n",
    "multiple_origin = 0\n",
    "origins = []\n",
    "for ppi in PPI.iterate():\n",
    "    if len(ppi.origin) == 1:\n",
    "        single_origin += 1\n",
    "        continue\n",
    "    multiple_origin += 1\n",
    "    has_database = lambda x: any(y in ('BioGRID', 'PlaPPISite', 'IntAct') for y in x )\n",
    "    has_mining = lambda x: any('(' in y for y in x)\n",
    "    has_independent = lambda x: any('&' in y for y in x)\n",
    "    n_origins = has_database(ppi.origin) + has_mining(ppi.origin) + has_independent(ppi.origin)\n",
    "    origins.append(n_origins)\n",
    "origins = Counter(origins)\n",
    "print(f'Single origin: {single_origin}, Multiple origin: {multiple_origin}')\n",
    "print(f'Origins: {origins}')"
   ]
  },
  {
   "cell_type": "code",
   "execution_count": 5,
   "id": "5b34e210",
   "metadata": {},
   "outputs": [
    {
     "name": "stderr",
     "output_type": "stream",
     "text": [
      "100%|██████████| 5724/5724 [00:03<00:00, 1533.72it/s]\n",
      "100%|██████████| 5724/5724 [00:02<00:00, 2567.38it/s]\n"
     ]
    },
    {
     "name": "stdout",
     "output_type": "stream",
     "text": [
      "{'Single origin | single value | 1 or 0': 2428,\n",
      " 'Single origin | single value | NC': 8,\n",
      " 'Single origin | single value | AUTO, NLW, ND, nan': 0,\n",
      " 'Single origin | two values | 1, 0': 2115,\n",
      " 'Single origin | two values | NC, NC': 0,\n",
      " 'Single origin | multiple values | _ < average < _ ': 5,\n",
      " 'Single origin | multiple values | avergae > _': 16,\n",
      " 'Single origin | multiple values | _ < average': 35,\n",
      " 'Multiple origins | All Isas | ?': 52,\n",
      " 'Multiple origins | All Isas | no ?': 469,\n",
      " 'Multiple origins | agreement': 366,\n",
      " 'Multiple origins | disagreement | majority vote': 73,\n",
      " 'Multiple origins | disagreement | no majority': 157}\n",
      "Batch effects: 38.59%\n",
      "PPIs without a clear label: 222 -> 3.88%\n"
     ]
    }
   ],
   "source": [
    "# Classify PPI interactions\n",
    "ppi_types = {\n",
    "    'Single origin | single value | 1 or 0': 0,\n",
    "    'Single origin | single value | NC': 0,\n",
    "    'Single origin | single value | AUTO, NLW, ND, nan': 0,\n",
    "    'Single origin | two values | 1, 0': 0,\n",
    "    'Single origin | two values | NC, NC': 0,\n",
    "    'Single origin | multiple values | _ < average < _ ': 0,\n",
    "    'Single origin | multiple values | avergae > _': 0,\n",
    "    'Single origin | multiple values | _ < average': 0,\n",
    "    'Multiple origins | All Isas | ?': 0,\n",
    "    'Multiple origins | All Isas | no ?': 0,\n",
    "    'Multiple origins | agreement': 0,\n",
    "    'Multiple origins | disagreement | majority vote': 0,\n",
    "    'Multiple origins | disagreement | no majority': 0,\n",
    "}\n",
    "\n",
    "def score_single_origin_interactions(values):\n",
    "    # Fully disregard nan, 'AUTO', 'ND', 'NLW', as they are not useful\n",
    "    values = [v for v in values if v not in (None, 'AUTO', 'ND', 'NLW') and not pd.isna(v)]\n",
    "    if values == []: return '?'\n",
    "    # Consider 'NC' as 0.5, as it is sth in between 0 and 1\n",
    "    values = [0.5 if v == 'NC' else v for v in values]\n",
    "    # Single value -> return it if != 0.5\n",
    "    if len(values) == 1:\n",
    "        if values[0] == 0.5:\n",
    "            return '?'\n",
    "        return int(values[0])\n",
    "    # Two values -> [1, 0] = 1 and [NC, NC] = ?\n",
    "    if len(values) == 2:\n",
    "        if 1 in values:\n",
    "            return 1\n",
    "        elif 0 in values:\n",
    "            return 0\n",
    "        elif values == [0.5, 0.5]:\n",
    "            return '?'\n",
    "        else:\n",
    "            raise ValueError(f'Unexpected values: {values}')\n",
    "    # Multiple values -> average\n",
    "    average = sum(values) / len(values)\n",
    "    if average > 3/5:\n",
    "        return 1\n",
    "    elif average < 2/5:\n",
    "        return 0\n",
    "    else:\n",
    "        return '?'\n",
    "\n",
    "for ppi in PPI.iterate():\n",
    "    if len(ppi.origin) == 1:\n",
    "        values = ppi.interaction[0]\n",
    "        values = [v for v in values if v not in (None, 'AUTO', 'ND', 'NLW') and not pd.isna(v)]\n",
    "        values = [0.5 if v == 'NC' else v for v in values]\n",
    "        if values == []:\n",
    "            ppi_types['Single origin | single value |  AUTO, NLW, ND, nan'] += 1\n",
    "        elif values == [0.5]:\n",
    "            ppi_types['Single origin | single value | NC'] += 1\n",
    "        elif len(values) == 1 and values[0] in (0, 1):\n",
    "            ppi_types['Single origin | single value | 1 or 0'] += 1\n",
    "        elif len(values) == 2:\n",
    "            if values == [0.5, 0.5]:\n",
    "                ppi_types['Single origin | two values | NC, NC'] += 1\n",
    "            else:\n",
    "                ppi_types['Single origin | two values | 1, 0'] += 1\n",
    "        elif len(values) > 2:\n",
    "            average = sum(values) / len(values)\n",
    "            if average < 2/5:\n",
    "                ppi_types['Single origin | multiple values | _ < average'] += 1\n",
    "            elif average > 3/5:\n",
    "                ppi_types['Single origin | multiple values | avergae > _'] += 1\n",
    "            else:\n",
    "                ppi_types['Single origin | multiple values | _ < average < _ '] += 1\n",
    "    if len(ppi.origin) > 1:\n",
    "        origin2interactions = {origin:interaction for origin, interaction in zip(ppi.origin, ppi.interaction)}\n",
    "        scoring_origin = [origin for origin in ppi.origin if '&' in origin]\n",
    "        origin2interactions['scoring'] = []\n",
    "        for k in scoring_origin:\n",
    "            if k in scoring_origin:\n",
    "                origin2interactions['scoring'].extend(origin2interactions[k])\n",
    "                del origin2interactions[k]\n",
    "        if origin2interactions['scoring'] == []:\n",
    "            del origin2interactions['scoring']\n",
    "        if len(origin2interactions) == 1 and 'scoring' in origin2interactions:\n",
    "            #ppi_types['Multiple origins | All Isas'] += 1\n",
    "            scored = score_single_origin_interactions(origin2interactions['scoring'])\n",
    "            if scored == '?':\n",
    "                ppi_types['Multiple origins | All Isas | ?'] += 1\n",
    "            else:\n",
    "                ppi_types['Multiple origins | All Isas | no ?'] += 1\n",
    "            \n",
    "        else:\n",
    "            scored = [score_single_origin_interactions(interactions) for interactions in origin2interactions.values()]\n",
    "            if len(set(scored)) == 1:\n",
    "                ppi_types['Multiple origins | agreement'] += 1\n",
    "                continue\n",
    "\n",
    "            scored = [s for s in scored if s != '?']\n",
    "            freqs = list(Counter(scored).values())\n",
    "            is_balanced = lambda x: max(x) == min(x) \n",
    "            if len(set(scored)) == 1 or not is_balanced(freqs):\n",
    "                ppi_types['Multiple origins | disagreement | majority vote'] += 1\n",
    "            else:\n",
    "                ppi_types['Multiple origins | disagreement | no majority'] += 1\n",
    "\n",
    "ppis = [ppi for ppi in PPI.iterate()]\n",
    "assert sum(ppi_types.values()) == len(ppis), 'The sum of the PPI types does not match the total number of PPIs.'\n",
    "pprint.pp(ppi_types)\n",
    "\n",
    "# Batch effects\n",
    "total = ppi_types['Multiple origins | agreement'] + ppi_types['Multiple origins | disagreement | majority vote'] + ppi_types['Multiple origins | disagreement | no majority']\n",
    "disagree = ppi_types['Multiple origins | disagreement | majority vote'] + ppi_types['Multiple origins | disagreement | no majority']\n",
    "print(f'Batch effects: {disagree / total * 100:.2f}%')\n",
    "\n",
    "# Non-determined PPIs\n",
    "non_determined = ppi_types['Single origin | single value | AUTO, NLW, ND, nan'] + \\\n",
    "                 ppi_types['Single origin | single value | NC'] + \\\n",
    "                 ppi_types['Single origin | two values | NC, NC'] + \\\n",
    "                 ppi_types['Single origin | multiple values | _ < average < _ '] + \\\n",
    "                 ppi_types['Multiple origins | All Isas | ?'] + \\\n",
    "                 ppi_types[ 'Multiple origins | disagreement | no majority']\n",
    "print(f'PPIs without a clear label: {non_determined} -> {non_determined / len(ppis) * 100:.2f}%')"
   ]
  }
 ],
 "metadata": {
  "kernelspec": {
   "display_name": "ml4mikc",
   "language": "python",
   "name": "python3"
  },
  "language_info": {
   "codemirror_mode": {
    "name": "ipython",
    "version": 3
   },
   "file_extension": ".py",
   "mimetype": "text/x-python",
   "name": "python",
   "nbconvert_exporter": "python",
   "pygments_lexer": "ipython3",
   "version": "3.10.18"
  }
 },
 "nbformat": 4,
 "nbformat_minor": 5
}
