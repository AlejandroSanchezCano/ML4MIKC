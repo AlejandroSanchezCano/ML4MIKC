{
 "cells": [
  {
   "cell_type": "code",
   "execution_count": null,
   "id": "3394f08e",
   "metadata": {},
   "outputs": [],
   "source": [
    "# Third-party modules\n",
    "import pandas as pd\n",
    "from tqdm import tqdm\n",
    "from multitax import NcbiTx\n",
    "\n",
    "# Custom modules\n",
    "from src.misc import path\n",
    "from src.misc.logger import logger\n",
    "from src.sources.paper import Paper\n",
    "from src.sources.scoring import Scoring\n",
    "from src.entities.protein import Protein\n",
    "from src.databases.network import Network\n",
    "from src.entities.interactor import Interactor\n",
    "from src.entities.protein_protein import ProteinProtein"
   ]
  },
  {
   "cell_type": "code",
   "execution_count": null,
   "id": "3309317d",
   "metadata": {},
   "outputs": [],
   "source": [
    "ncbi_tx = NcbiTx()"
   ]
  },
  {
   "cell_type": "markdown",
   "id": "209d151c",
   "metadata": {},
   "source": [
    "### Database source"
   ]
  },
  {
   "cell_type": "code",
   "execution_count": null,
   "id": "a6aeb51b",
   "metadata": {},
   "outputs": [],
   "source": [
    "# Merge networks from database\n",
    "intact = Network(db = 'IntAct', version = '2024-09-08', type = 'MADS_vs_MADS', standarized = True)\n",
    "biogrid = Network(db = 'BioGRID', version = '4.4.238', type = 'MADS_vs_MADS', standarized = True)\n",
    "pplappisite = Network(db = 'PlaPPISite', type = 'MADS_vs_MADS', standarized = True)\n",
    "\n",
    "# NOT add negatives\n",
    "#intact.add_negatives_per_species()\n",
    "#biogrid.add_negatives_per_species()\n",
    "#pplappisite.add_negatives_per_species()\n",
    "\n",
    "# Add 'From' column\n",
    "intact.df['From'] = 'IntAct'\n",
    "biogrid.df['From'] = 'BioGRID'\n",
    "pplappisite.df['From'] = 'PlaPPISite'\n",
    "\n",
    "# Merge\n",
    "databases = Network.merge(intact, biogrid, pplappisite)\n",
    "\n",
    "# Remove duplicates\n",
    "databases.df.drop_duplicates('Seq', inplace = True)\n",
    "\n",
    "# Add, remove and reorder coulumns\n",
    "databases.df['Interaction'] = 1\n",
    "databases.df['Discrepancy'] = 0\n",
    "databases.df['bioID_A'] = ''\n",
    "databases.df['bioID_B'] = ''\n",
    "databases.df.rename(columns = {'A': 'UniProtID_A', 'B': 'UniProtID_B'}, inplace = True)\n",
    "databases.df.rename(columns = {'Species_A': 'TaxonID_A', 'Species_B': 'TaxonID_B'}, inplace = True)\n",
    "databases.df.rename(columns = {'Seq_A': 'Sequence_A', 'Seq_B': 'Sequence_B'}, inplace = True)\n",
    "taxonID2species = {taxonID:ncbi_tx.name_lineage(str(taxonID))[-1] for taxonID in pd.concat([databases.df['TaxonID_A'], databases.df['TaxonID_B']]).unique()}\n",
    "databases.df['Species_A'] = databases.df['TaxonID_A'].map(taxonID2species)\n",
    "databases.df['Species_B'] = databases.df['TaxonID_B'].map(taxonID2species)\n",
    "databases.df = databases.df[['bioID_A', 'bioID_B', 'UniProtID_A', 'UniProtID_B', 'Sequence_A', 'Sequence_B', 'Interaction', 'Discrepancy', 'From', 'TaxonID_A', 'TaxonID_B', 'Species_A', 'Species_B']]\n"
   ]
  },
  {
   "cell_type": "markdown",
   "id": "14c7e2ff",
   "metadata": {},
   "source": [
    "### Literature mining source"
   ]
  },
  {
   "cell_type": "code",
   "execution_count": null,
   "id": "03a0014e",
   "metadata": {},
   "outputs": [],
   "source": []
  }
 ],
 "metadata": {
  "kernelspec": {
   "display_name": "ml4mikc",
   "language": "python",
   "name": "python3"
  },
  "language_info": {
   "name": "python",
   "version": "3.10.18"
  }
 },
 "nbformat": 4,
 "nbformat_minor": 5
}
